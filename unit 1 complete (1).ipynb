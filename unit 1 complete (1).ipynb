{
 "cells": [
  {
   "cell_type": "code",
   "execution_count": null,
   "id": "9440e9fd",
   "metadata": {},
   "outputs": [],
   "source": [
    "#import section\n",
    "import imutils\n",
    "import cv2\n",
    "import numpy as np\n",
    "import matplotlib as mpl\n",
    "from matplotlib import pyplot as plt\n",
    "from colorspacious import cspace_converter"
   ]
  },
  {
   "cell_type": "code",
   "execution_count": null,
   "id": "6e8fd29d",
   "metadata": {},
   "outputs": [],
   "source": [
    " #READING IMAGE.\n",
    "img_grayscale = cv2.imread('C:\\\\Users\\\\Sravanthi\\\\Downloads\\\\nebubla1.jpeg',0)\n",
    "img_color = cv2.imread('C:\\\\Users\\\\Sravanthi\\\\Downloads\\\\nebubla1.jpeg', 1)\n",
    "img_uc = cv2.imread('C:\\\\Users\\\\Sravanthi\\\\Downloads\\\\nebubla1.jpeg', -1)\n"
   ]
  },
  {
   "cell_type": "code",
   "execution_count": null,
   "id": "33b018aa",
   "metadata": {},
   "outputs": [],
   "source": [
    "img_uc.shape"
   ]
  },
  {
   "cell_type": "code",
   "execution_count": null,
   "id": "ff7e533f",
   "metadata": {},
   "outputs": [],
   "source": [
    " #The function cv2.imshow() is used to display an image in a window.\n",
    "cv2.imshow('graycsale image',img_grayscale)\n",
    "# waitKey() waits for a key press to close the window and 0 specifies indefinit\n",
    "cv2.waitKey(0)\n",
    "# cv2.destroyAllWindows() simply destroys all the windows we created.\n",
    "cv2.destroyAllWindows()\n",
    "# The function cv2.imwrite() is used to write an image.\n",
    "cv2.imwrite('C:\\\\Users\\\\Sravanthi\\\\Downloads\\\\nebubla1.jpeg',img_grayscale)\n"
   ]
  },
  {
   "cell_type": "code",
   "execution_count": null,
   "id": "254dd5c7",
   "metadata": {},
   "outputs": [],
   "source": [
    " #The function cv2.imshow() is used to display an image in a window.\n",
    "cv2.imshow('Color image',img_color)\n",
    "# waitKey() waits for a key press to close the window and 0 specifies indefinit\n",
    "cv2.waitKey(0)\n",
    "# cv2.destroyAllWindows() simply destroys all the windows we created.\n",
    "cv2.destroyAllWindows()\n",
    "# The function cv2.imwrite() is used to write an image.\n",
    "cv2.imwrite('C:\\\\Users\\\\Sravanthi\\\\Downloads\\\\nebubla1.jpeg',img_color)\n"
   ]
  },
  {
   "cell_type": "code",
   "execution_count": null,
   "id": "2d617265",
   "metadata": {},
   "outputs": [],
   "source": [
    "cv2.imshow('Loaded As is image', img_uc)\n",
    "cv2.waitKey(0)\n",
    "cv2.destroyAllWindows()\n",
    "cv2.imwrite('C:\\\\Users\\\\Sravanthi\\\\Downloads\\\\nebubla1.jpeg', img_uc)\n",
    "\n"
   ]
  },
  {
   "cell_type": "code",
   "execution_count": null,
   "id": "69b8c328",
   "metadata": {},
   "outputs": [],
   "source": [
    "fig, ax = plt.subplots(nrows=1, ncols=3, figsize=[10,10])\n",
    "ax[0].imshow(img_grayscale) #image shown as color image though it is gray\n",
    "ax[1].imshow(img_color)\n",
    "ax[2].imshow(img_uc)\n",
    "fig.tight_layout()\n",
    "plt.show()\n",
    "fig, ax = plt.subplots(nrows=1, ncols=3, figsize=[10,10])\n",
    "ax[0].imshow(img_grayscale, cmap='gray') #Using color map\n",
    "ax[1].imshow(img_color)\n",
    "ax[2].imshow(img_uc)\n",
    "fig.tight_layout()\n",
    "\n"
   ]
  },
  {
   "cell_type": "code",
   "execution_count": null,
   "id": "bde54f24",
   "metadata": {},
   "outputs": [],
   "source": [
    "img_grayscale"
   ]
  },
  {
   "cell_type": "code",
   "execution_count": null,
   "id": "a1fce907",
   "metadata": {},
   "outputs": [],
   "source": [
    "img_color"
   ]
  },
  {
   "cell_type": "code",
   "execution_count": null,
   "id": "02463b13",
   "metadata": {},
   "outputs": [],
   "source": [
    "import cv2\n",
    "import numpy as np\n",
    "import matplotlib as mpl\n",
    "from matplotlib import pyplot as plt\n",
    "cmaps = {}\n",
    "gradient = np.linspace(0, 1, 256)\n",
    "gradient = np.vstack((gradient, gradient))\n",
    "def plot_color_gradients(category, cmap_list):\n",
    "# Create figure and adjust figure height to number of colormaps\n",
    "        nrows = len(cmap_list)\n",
    "        figh = 0.35 + 0.15 + (nrows + (nrows - 1) * 0.1) * 0.22\n",
    "        fig, axs = plt.subplots(nrows=nrows + 1, figsize=(6.4, figh))\n",
    "        fig.subplots_adjust(top=1 - 0.35 / figh, bottom=0.15 / figh,\n",
    "                    left=0.2, right=0.99)\n",
    "        axs[0].set_title(f'{category} colormaps', fontsize=14)\n",
    "        for ax, name in zip(axs, cmap_list):\n",
    "            ax.imshow(gradient, aspect='auto', cmap=mpl.colormaps[name])\n",
    "            ax.text(-0.01, 0.5, name, va='center', ha='right', fontsize=10,\n",
    "                    transform=ax.transAxes)\n",
    " # Turn off *all* ticks & spines, not just the ones with colormaps.\n",
    "        for ax in axs:\n",
    "            ax.set_axis_off()\n",
    " # Save colormap list for later.\n",
    "        cmaps[category] = cmap_list\n"
   ]
  },
  {
   "cell_type": "code",
   "execution_count": null,
   "id": "dd8e965e",
   "metadata": {},
   "outputs": [],
   "source": [
    "plot_color_gradients('Perceptually Uniform Sequential', ['viridis', 'plasma', 'inferno', 'magma', 'cividis'])\n"
   ]
  },
  {
   "cell_type": "code",
   "execution_count": null,
   "id": "1b400c9c",
   "metadata": {},
   "outputs": [],
   "source": [
    "plot_color_gradients('Sequential',['Greys', 'Purples', 'Blues', 'Greens', 'Oranges', 'Reds','YlOrBr', 'YlOrRd', \n",
    "'OrRd', 'PuRd', 'RdPu', 'BuPu', 'GnBu', 'PuBu', 'YlGnBu', 'PuBuGn', 'BuGn', 'YlGn'])\n"
   ]
  },
  {
   "cell_type": "code",
   "execution_count": null,
   "id": "4f36647c",
   "metadata": {},
   "outputs": [],
   "source": [
    "img = cv2.imread('C:\\\\Users\\\\Sravanthi\\\\Downloads\\\\waterfalls.webp')\n",
    "img1 = cv2.cvtColor(img, cv2.COLOR_BGR2GRAY)\n",
    "img2 = cv2.cvtColor(img, cv2.COLOR_BGR2RGB)\n",
    "img3 = cv2.cvtColor(img, cv2.COLOR_BGR2YUV)\n",
    "fig, ax = plt.subplots(nrows=2, ncols=2, figsize=[10,10])\n",
    "ax[0][0].imshow(img)\n",
    "ax[0][0].set_title('Original ')\n",
    "ax[0][1].imshow(img1)\n",
    "ax[0][1].set_title('cv2.COLOR_BGR2GRAY')\n",
    "ax[1][0].imshow(img2)\n",
    "ax[1][0].set_title('cv2.COLOR_BGR2RGB')\n",
    "ax[1][1].imshow(img3)\n",
    "ax[1][1].set_title(' cv2.COLOR_BGR2YUV')\n",
    "fig.tight_layout()\n",
    "plt.show()\n",
    "\n"
   ]
  },
  {
   "cell_type": "code",
   "execution_count": null,
   "id": "da24427f",
   "metadata": {},
   "outputs": [],
   "source": [
    "import cv2\n",
    "import matplotlib as mpl\n",
    "from matplotlib import pyplot as plt\n",
    "img = cv2.imread('C:\\\\Users\\\\Sravanthi\\\\Downloads\\\\nebubla.jpg')\n",
    "img = cv2.cvtColor(img, cv2.COLOR_BGR2RGB)\n",
    "\n"
   ]
  },
  {
   "cell_type": "code",
   "execution_count": null,
   "id": "8e616253",
   "metadata": {},
   "outputs": [],
   "source": [
    "fig, ax = plt.subplots(nrows=1, ncols=3, figsize=[10,10])\n",
    "ax[0].imshow(img *[1,0,0])\n",
    "ax[0].set_title('REDS')\n",
    "ax[1].imshow(img *[0,1,0])\n",
    "ax[1].set_title('GREENS')\n",
    "ax[2].imshow(img*[0,0,1])\n",
    "ax[2].set_title('BLUES')\n",
    "fig.tight_layout()\n",
    "plt.show()\n"
   ]
  },
  {
   "cell_type": "code",
   "execution_count": null,
   "id": "d0476b15",
   "metadata": {},
   "outputs": [],
   "source": [
    "r,g,b = cv2.split(img)\n",
    "fig, ax = plt.subplots(nrows=1, ncols=3, figsize=[10,10])\n",
    "ax[0].imshow(r)\n",
    "ax[0].set_title('REDS')\n",
    "ax[1].imshow(g)\n",
    "ax[1].set_title('GREENS')\n",
    "ax[2].imshow(b)\n",
    "ax[2].set_title('BLUES')\n",
    "fig.tight_layout()\n",
    "plt.show()\n"
   ]
  },
  {
   "cell_type": "code",
   "execution_count": null,
   "id": "2cb05cfd",
   "metadata": {},
   "outputs": [],
   "source": [
    "import cv2\n",
    "import matplotlib as mpl\n",
    "from matplotlib import pyplot as plt\n",
    "img = cv2.imread('C:\\\\Users\\\\Sravanthi\\\\Downloads\\\\tree.jpg')\n",
    "img = cv2.cvtColor(img, cv2.COLOR_BGR2RGB)\n"
   ]
  },
  {
   "cell_type": "code",
   "execution_count": null,
   "id": "04e59f59",
   "metadata": {},
   "outputs": [],
   "source": [
    "import cv2\n",
    "import matplotlib.pyplot as plt\n",
    "\n",
    "# Assuming you already have 'img' and have performed the splitting as shown in the previous code.\n",
    "\n",
    "colors = ('r', 'g', 'b')\n",
    "\n",
    "# Compute and plot the image histograms for each color channel\n",
    "for i, color in enumerate(colors):\n",
    "    hist = cv2.calcHist([img], [i], None, [256], [0, 256])\n",
    "    plt.plot(hist, color=color)\n",
    "\n",
    "plt.title('Image Histogram')\n",
    "plt.show()"
   ]
  },
  {
   "cell_type": "code",
   "execution_count": null,
   "id": "86b15763",
   "metadata": {},
   "outputs": [],
   "source": [
    "\n",
    "import cv2\n",
    "import matplotlib.pyplot as plt\n",
    "\n",
    "# Assuming you already have 'img' and have performed the splitting as shown in the previous code.\n",
    "r, g, b = cv2.split(img)\n",
    "\n",
    "print(\"The shape of img is \" + str(img.shape))\n",
    "print(\"The shape of r is \" + str(r.shape))\n",
    "print(\"The shape of g is \" + str(g.shape))\n",
    "print(\"The shape of b is \" + str(b.shape))\n",
    "\n",
    "fig, ax = plt.subplots(nrows=3, ncols=2, figsize=[10, 10])\n",
    "ax[0][0].imshow(b, cmap='Blues')\n",
    "ax[0][0].set_title('BLUE IMAGE')\n",
    "ax[0][1].hist(b.ravel(), 256, [0, 256])\n",
    "ax[1][0].imshow(g, cmap='Greens')\n",
    "ax[1][0].set_title('GREEN IMAGE')\n",
    "ax[1][1].hist(g.ravel(), 256, [0, 256])\n",
    "ax[2][0].imshow(r, cmap='Reds')\n",
    "ax[2][0].set_title('RED IMAGE')\n",
    "ax[2][1].hist(r.ravel(), 256, [0, 256])\n",
    "\n",
    "fig.tight_layout()\n",
    "plt.show()"
   ]
  },
  {
   "cell_type": "code",
   "execution_count": null,
   "id": "69218690",
   "metadata": {},
   "outputs": [],
   "source": [
    "import cv2\n",
    "import numpy as np\n",
    "import matplotlib as mpl\n",
    "from matplotlib import pyplot as plt\n",
    "img = cv2.imread('C:\\\\Users\\\\Sravanthi\\\\Downloads\\\\tree.jpg')\n",
    "img = cv2.cvtColor(img, cv2.COLOR_BGR2RGB)\n",
    "r,g,b = cv2.split(img)\n"
   ]
  },
  {
   "cell_type": "code",
   "execution_count": null,
   "id": "3bce8c6a",
   "metadata": {},
   "outputs": [],
   "source": [
    "eb = cv2.equalizeHist(b)\n",
    "fig, ax = plt.subplots(nrows=2, ncols=2, figsize=[10,10])\n",
    "ax[0][0].imshow(b, cmap='Blues')\n",
    "ax[0][0].set_title('ORIGINAL BLUE IMAGE')\n",
    "ax[0][1].hist(b.ravel(),256,[0,256])\n",
    "ax[1][0].imshow(eb, cmap='Blues')\n",
    "ax[1][0].set_title('EQUALIZED IMAGE')\n",
    "ax[1][1].hist(eb.ravel(),256,[0,256])\n",
    "plt.show()\n",
    "er = cv2.equalizeHist(r)\n",
    "eg = cv2.equalizeHist(g)\n"
   ]
  },
  {
   "cell_type": "code",
   "execution_count": null,
   "id": "c8872a40",
   "metadata": {},
   "outputs": [],
   "source": [
    "import cv2\n",
    "import matplotlib.pyplot as plt\n",
    "\n",
    "# Assuming you already have 'img' and have performed the splitting as shown in the previous code.\n",
    "r, g, b = cv2.split(img)\n",
    "\n",
    "# Perform histogram equalization on each color channel\n",
    "er = cv2.equalizeHist(r)\n",
    "eg = cv2.equalizeHist(g)\n",
    "eb = cv2.equalizeHist(b)\n",
    "\n",
    "# Merge the equalized color channels back into an equalized image\n",
    "eqim = cv2.merge([er, eg, eb])\n",
    "\n",
    "fig, ax = plt.subplots(nrows=1, ncols=2, figsize=[10, 10])\n",
    "ax[0].imshow(img)\n",
    "ax[0].set_title('ORIGINAL IMAGE')\n",
    "ax[1].imshow(eqim)\n",
    "ax[1].set_title('EQUALIZED IMAGE')\n",
    "plt.show()\n"
   ]
  },
  {
   "cell_type": "code",
   "execution_count": null,
   "id": "e38136d9",
   "metadata": {},
   "outputs": [],
   "source": [
    "import cv2\n",
    "import matplotlib as mpl\n",
    "from matplotlib import pyplot as plt\n",
    "img = cv2.imread('C:\\\\Users\\\\Sravanthi\\\\Downloads\\\\tree.jpg')\n",
    "img = cv2.cvtColor(img, cv2.COLOR_BGR2RGB)\n",
    "im1_yuv_clahe = cv2.cvtColor(img,cv2.COLOR_BGR2YUV)\n",
    "clahe = cv2.createCLAHE(clipLimit=2.0, tileGridSize=(15,15))\n",
    "im1_yuv_clahe[:,:,0] = clahe.apply(im1_yuv_clahe[:,:,0])\n",
    "hist_eq_clahe = cv2.cvtColor(im1_yuv_clahe, cv2.COLOR_YUV2BGR)\n",
    "fig, ax = plt.subplots(nrows=1, ncols=3, figsize=[15,15])\n",
    "ax[0].imshow(img)\n",
    "ax[0].set_title('ORIGINAL IMAGE')\n",
    "ax[1].imshow(hist_eq_clahe)\n",
    "ax[1].set_title('LOCAL EQUALIZED \\n YUV')\n",
    "ax[2].imshow(eqim) #Taken from previous program\n",
    "ax[2].set_title('LOCAL EQUALIZED \\n EACH CHANNEL')\n",
    "plt.show()\n"
   ]
  },
  {
   "cell_type": "code",
   "execution_count": null,
   "id": "936703ce",
   "metadata": {},
   "outputs": [],
   "source": [
    "import cv2\n",
    "import matplotlib as mpl\n",
    "from matplotlib import pyplot as plt\n",
    "li = cv2.imread('C:\\\\Users\\\\Sravanthi\\\\Downloads\\\\low light 1.jpeg',0)\n",
    "#li_yuv = cv2.cvtColor(li,cv2.COLOR_BGR2YUV)\n",
    "fig, ax = plt.subplots(nrows=1, ncols=2, figsize=[10,10])\n",
    "ax[0].imshow(li, cmap='gray')\n",
    "ax[0].set_title(\"Original\")\n",
    "li = cv2.equalizeHist(li)\n",
    "ax[1].set_title(\"Enhanced\")\n",
    "ax[1].imshow(li, cmap='gray')\n",
    "plt.show()"
   ]
  },
  {
   "cell_type": "code",
   "execution_count": null,
   "id": "530343a4",
   "metadata": {},
   "outputs": [],
   "source": [
    "import cv2\n",
    "import matplotlib as mpl\n",
    "from matplotlib import pyplot as plt\n",
    "li0 = cv2.imread('C:\\\\Users\\\\Sravanthi\\\\Downloads\\\\low light 1.jpeg',0)\n",
    "#li_yuv = cv2.cvtColor(li,cv2.COLOR_BGR2YUV)\n",
    "clahe = cv2.createCLAHE(clipLimit=2.0, tileGridSize=(15,15))\n",
    "fig, ax = plt.subplots(nrows=2, ncols=3, figsize=[10,10])\n",
    "ax[0][0].imshow(li0, cmap='gray')\n",
    "li1 = cv2.equalizeHist(li0)\n",
    "ax[0][1].imshow(li1, cmap='gray')\n",
    "li2 = clahe.apply(li0)\n",
    "ax[0][2].imshow(li1, cmap='gray')\n",
    "ax[1][0].hist(li0.ravel(),256,[0,256])\n",
    "ax[1][1].hist(li1.ravel(),256,[0,256])\n",
    "ax[1][2].hist(li2.ravel(),256,[0,256])\n",
    "fig.tight_layout()\n",
    "plt.show()"
   ]
  },
  {
   "cell_type": "code",
   "execution_count": null,
   "id": "e03ddd37",
   "metadata": {},
   "outputs": [],
   "source": [
    "import cv2\n",
    "import numpy as np\n",
    "import matplotlib as mpl\n",
    "from matplotlib import pyplot as plt\n",
    "from skimage import exposure\n",
    "from skimage.exposure import match_histograms\n"
   ]
  },
  {
   "cell_type": "code",
   "execution_count": null,
   "id": "33fdbd2c",
   "metadata": {},
   "outputs": [],
   "source": [
    "src = cv2.imread('C:\\\\Users\\\\Sravanthi\\\\Downloads\\\\low light 1.jpeg')\n",
    "src_yuv = cv2.cvtColor(src,cv2.COLOR_BGR2YUV)"
   ]
  },
  {
   "cell_type": "code",
   "execution_count": null,
   "id": "80f3705b",
   "metadata": {},
   "outputs": [],
   "source": [
    "ref = cv2.imread('C:\\\\Users\\\\Sravanthi\\\\Downloads\\\\tree.jpg')\n",
    "ref = cv2.cvtColor(ref,cv2.COLOR_BGR2RGB)"
   ]
  },
  {
   "cell_type": "code",
   "execution_count": null,
   "id": "58fdd661",
   "metadata": {},
   "outputs": [],
   "source": [
    "ref = cv2.resize(ref, (src.shape[1], src.shape[0]))\n",
    "ref_yuv = cv2.cvtColor(ref,cv2.COLOR_BGR2YUV)\n",
    "print('Shape of src image = ' + str(src.shape))\n",
    "print('Shape of ref image = ' + str(ref.shape))\n",
    "fig, ax = plt.subplots(nrows=1, ncols=2, figsize=[15,15])\n",
    "ax[0].imshow(src)\n",
    "ax[0].set_title('ORIGINAL IMAGE')\n",
    "ax[1].imshow(ref)\n",
    "ax[1].set_title('REFERENCE MATCHED')\n",
    "plt.show()\n",
    "src_yuv[:,:,0] = match_histograms(src_yuv[:,:,0], ref_yuv[:,:,0])\n",
    "src1 = cv2.cvtColor(src_yuv,cv2.COLOR_YUV2BGR)\n",
    "src2 = match_histograms(src, ref, multichannel=True)\n",
    "fig, ax = plt.subplots(nrows=1, ncols=3, figsize=[15,15])\n",
    "ax[0].imshow(src)\n",
    "ax[0].set_title('ORIGINAL IMAGE')\n",
    "ax[1].imshow(src1)\n",
    "ax[1].set_title('HISTOGRAM MATCHED\\nIN YUV MODEL')\n",
    "ax[2].imshow(src2)\n",
    "ax[2].set_title('COLOR HISTOGRAM MATCHED')\n",
    "plt.show()\n"
   ]
  },
  {
   "cell_type": "code",
   "execution_count": null,
   "id": "c8da0e14",
   "metadata": {},
   "outputs": [],
   "source": [
    "import cv2\n",
    "import matplotlib as mpl\n",
    "from matplotlib import pyplot as plt\n",
    "img = cv2.imread('C:\\\\Users\\\\Sravanthi\\\\Downloads\\\\doreomon.jpeg')\n",
    "img = cv2.cvtColor(img, cv2.COLOR_BGR2RGB)\n",
    "ns1 = (640, 480)\n",
    "ri1 = cv2.resize(img, ns1)\n",
    "ri2 = cv2.resize(img, (0,0), fx=0.25, fy=0.7, interpolation = cv2.INTER_AREA)\n",
    "fig,ax = plt.subplots(nrows=1, ncols=3, figsize=[10,10])\n",
    "ax[0].imshow(img)\n",
    "ax[0].set_title('Original Image\\nShape: ' + str(img_uc.shape))\n",
    "ax[1].imshow(ri1)\n",
    "ax[1].set_title('Resized Image\\nShape: ' + str(ri1.shape))\n",
    "ax[2].imshow(ri2)\n",
    "ax[2].set_title('Resized Image\\nShape: ' + str(img_uc.shape))\n",
    "fig.tight_layout()\n",
    "plt.show()"
   ]
  },
  {
   "cell_type": "code",
   "execution_count": null,
   "id": "65f8fd57",
   "metadata": {},
   "outputs": [],
   "source": [
    "import cv2\n",
    "import matplotlib as mpl\n",
    "from matplotlib import pyplot as plt\n",
    "img = cv2.imread('C:\\\\Users\\\\Sravanthi\\\\Downloads\\\\doreomon.jpeg')\n",
    "img = cv2.cvtColor(img, cv2.COLOR_BGR2RGB)\n",
    "rot1 = cv2.rotate(img, cv2.ROTATE_90_CLOCKWISE)\n",
    "rot2 = cv2.rotate(img, cv2.ROTATE_180)\n",
    "rot3 = cv2.rotate(img, cv2.ROTATE_90_COUNTERCLOCKWISE)\n",
    "fig, ax = plt.subplots(nrows=1, ncols=4, figsize=[10,10])\n",
    "ax[0].imshow(img)\n",
    "ax[0].set_title('UNROTATED IMAGE')\n",
    "ax[1].imshow(rot1)\n",
    "ax[1].set_title('ROTATE_90_CLOCKWISE')\n",
    "ax[2].imshow(rot2)\n",
    "ax[2].set_title('ROTATE_180')\n",
    "ax[3].imshow(rot3)\n",
    "ax[3].set_title('ROTATE_90_COUNTERCLOCKWISE')\n",
    "fig.tight_layout()\n",
    "plt.show()"
   ]
  },
  {
   "cell_type": "code",
   "execution_count": null,
   "id": "51783a47",
   "metadata": {},
   "outputs": [],
   "source": [
    "import cv2\n",
    "import matplotlib as mpl\n",
    "from matplotlib import pyplot as plt\n",
    "import imutils"
   ]
  },
  {
   "cell_type": "code",
   "execution_count": null,
   "id": "29cb89b2",
   "metadata": {},
   "outputs": [],
   "source": [
    "img = cv2.imread('C:\\\\Users\\\\Sravanthi\\\\Downloads\\\\nebubla1.jpeg')\n",
    "img = cv2.cvtColor(img, cv2.COLOR_BGR2RGB)"
   ]
  },
  {
   "cell_type": "code",
   "execution_count": null,
   "id": "e40ee817",
   "metadata": {},
   "outputs": [],
   "source": [
    "img_invt = cv2.bitwise_not(img)\n"
   ]
  },
  {
   "cell_type": "code",
   "execution_count": null,
   "id": "f83ff205",
   "metadata": {},
   "outputs": [],
   "source": [
    "img_invt = cv2.bitwise_not(img_uc)\n",
    "rot1 = imutils.rotate(img_invt, 45)\n",
    "rot2 = imutils.rotate(img_invt, -45)\n",
    "fig, ax = plt.subplots(nrows=1, ncols=3, figsize=[10,10])\n",
    "ax[0].imshow(img_invt)\n",
    "ax[0].set_title('UNROTATED IMAGE')\n",
    "ax[1].imshow(rot1)\n",
    "ax[1].set_title('ROTATE 45°')\n",
    "ax[2].imshow(rot2)\n",
    "ax[2].set_title('ROTATE -45°')\n",
    "fig.tight_layout()\n",
    "plt.show()\n"
   ]
  },
  {
   "cell_type": "code",
   "execution_count": null,
   "id": "e0644f6a",
   "metadata": {},
   "outputs": [],
   "source": [
    "rot1 = imutils.rotate_bound(img_invt, 45)\n",
    "rot2 = imutils.rotate_bound(img_invt, -45)\n",
    "fig, ax = plt.subplots(nrows=1, ncols=3, figsize=[10,10])\n",
    "ax[0].imshow(img_invt)\n",
    "ax[0].set_title('UNROTATED IMAGE')\n",
    "ax[1].imshow(rot1)\n",
    "ax[1].set_title('ROTATE 45°')\n",
    "ax[2].imshow(rot2)\n",
    "ax[2].set_title('ROTATE -45°')\n",
    "fig.tight_layout()\n",
    "plt.show()\n"
   ]
  },
  {
   "cell_type": "code",
   "execution_count": null,
   "id": "fd6b9869",
   "metadata": {},
   "outputs": [],
   "source": [
    "import cv2\n",
    "import matplotlib.pyplot as plt\n",
    "\n",
    "im1 = cv2.imread('C:\\\\Users\\\\Sravanthi\\\\Downloads\\\\waterfalls.webp')\n",
    "\n",
    "# Check if the image was loaded successfully\n",
    "if im1 is None:\n",
    "    print(\"Error: Image 1 not loaded.\")\n",
    "else:\n",
    "    im1 = cv2.cvtColor(im1, cv2.COLOR_BGR2RGB)\n",
    "\n",
    "im2 = cv2.imread('C:\\\\Users\\\\Sravanthi\\\\Downloads\\\\water.jpeg')\n",
    "\n",
    "# Check if the image was loaded successfully\n",
    "if im2 is None:\n",
    "    print(\"Error: Image 2 not loaded.\")\n",
    "else:\n",
    "    im2 = cv2.cvtColor(im2, cv2.COLOR_BGR2RGB)\n",
    "    im2 = cv2.resize(im2, (im1.shape[1], im1.shape[0]))\n",
    "\n",
    "    im_add1 = cv2.addWeighted(im1, 0.75, im2, 0.25, 0)\n",
    "    im_add2 = cv2.add(im1, im2)\n",
    "\n",
    "    fig, ax = plt.subplots(nrows=2, ncols=2, figsize=[10, 10])\n",
    "    ax[0][0].imshow(im1)\n",
    "    ax[0][0].set_title('IMAGE 1')\n",
    "    ax[0][1].imshow(im2)\n",
    "    ax[0][1].set_title('IMAGE 2')\n",
    "    ax[1][0].imshow(im_add1)\n",
    "    ax[1][0].set_title('Weighted Addition')\n",
    "    ax[1][1].imshow(im_add2)\n",
    "    ax[1][1].set_title('Normal Addition')\n",
    "    fig.tight_layout()\n",
    "    plt.show()"
   ]
  },
  {
   "cell_type": "code",
   "execution_count": null,
   "id": "9aef1b29",
   "metadata": {},
   "outputs": [],
   "source": [
    "import cv2\n",
    "import matplotlib as mpl\n",
    "from matplotlib import pyplot as plt\n",
    "im1 = cv2.imread('C:\\\\Users\\\\Sravanthi\\\\Downloads\\\\waterfalls.webp')\n",
    "im1=cv2.cvtColor(im1, cv2.COLOR_BGR2RGB)\n",
    "im2 = cv2.imread('C:\\\\Users\\\\Sravanthi\\\\Downloads\\\\water.jpeg')\n",
    "im2=cv2.cvtColor(im2, cv2.COLOR_BGR2RGB)\n",
    "im2 = cv2.resize(im2, (im1.shape[1], im1.shape[0]))\n",
    "im_sub = cv2.subtract(im1, im2)\n",
    "fig, ax = plt.subplots(nrows=1, ncols=3, figsize=[10,10])\n",
    "ax[0].imshow(im1)\n",
    "ax[0].set_title('IMAGE 1')\n",
    "ax[1].imshow(im2)\n",
    "ax[1].set_title('IMAGE 2')\n",
    "ax[2].imshow(im_sub)\n",
    "ax[2].set_title('IMAGES SUBTRACTED')\n",
    "fig.tight_layout()\n",
    "plt.show()\n"
   ]
  },
  {
   "cell_type": "code",
   "execution_count": null,
   "id": "a4fc1d9c",
   "metadata": {},
   "outputs": [],
   "source": [
    "import cv2\n",
    "import matplotlib as mpl\n",
    "from matplotlib import pyplot as plt\n",
    "im1 = cv2.imread('C:\\\\Users\\\\Sravanthi\\\\Downloads\\\\waterfalls.webp')\n",
    "im1=cv2.cvtColor(im1, cv2.COLOR_BGR2RGB)\n",
    "im2 = cv2.imread('C:\\\\Users\\\\Sravanthi\\\\Downloads\\\\water.jpeg')\n",
    "im2=cv2.cvtColor(im2, cv2.COLOR_BGR2RGB)\n",
    "im2 = cv2.resize(im2, (im1.shape[1], im1.shape[0]))\n",
    "imor = cv2.bitwise_or(im1, im2, mask=None)\n",
    "imand = cv2.bitwise_and(im1, im2, mask=None)\n",
    "fig, ax = plt.subplots(nrows=2, ncols=2, figsize=[10,10])\n",
    "ax[0][0].imshow(im1)\n",
    "ax[0][0].set_title('IMAGE 1')\n",
    "ax[0][1].imshow(im2)\n",
    "ax[0][1].set_title('IMAGE 2')\n",
    "ax[1][0].imshow(imor)\n",
    "ax[1][0].set_title('BITWISE OR')\n",
    "ax[1][1].imshow(imand)\n",
    "ax[1][1].set_title('BITWISE AND')\n",
    "fig.tight_layout()\n",
    "plt.show()"
   ]
  },
  {
   "cell_type": "code",
   "execution_count": null,
   "id": "15d69db7",
   "metadata": {},
   "outputs": [],
   "source": [
    "import cv2\n",
    "import matplotlib as mpl\n",
    "from matplotlib import pyplot as plt\n",
    "im1 = cv2.imread('C:\\\\Users\\\\Sravanthi\\\\Downloads\\\\waterfalls.webp')\n",
    "im1=cv2.cvtColor(im1, cv2.COLOR_BGR2RGB)\n",
    "im2 = cv2.imread('C:\\\\Users\\\\Sravanthi\\\\Downloads\\\\water.jpeg')\n",
    "im2=cv2.cvtColor(im2, cv2.COLOR_BGR2RGB)\n",
    "im2 = cv2.resize(im2, (im1.shape[1], im1.shape[0]))\n",
    "# MASK DEFINITION\n",
    "# MASK TO BE SAME SIZE OF IMAGES\n",
    "# THE PIXELS IN THE MASK WITH 0s WILL BE EXCLUDED IN FINAL IMAGE\n",
    "# THE PIXELS WITH WHITE COLOR WITH 255s WILL BE INCLUDED\n",
    "M1 = np.zeros(im1.shape[:2], dtype=np.uint8)\n",
    "M1[50:300, 50:500] = 255 \n",
    "M1.astype(np.int8)\n",
    "imor = cv2.bitwise_or(im1, im2, mask=M1)\n",
    "imand = cv2.bitwise_and(im1, im2, mask=M1)\n",
    "fig, ax = plt.subplots(nrows=2, ncols=2, figsize=[10,10])\n",
    "ax[0][0].imshow(im1)\n",
    "ax[0][0].set_title('IMAGE 1')\n",
    "ax[0][1].imshow(im2)\n",
    "ax[0][1].set_title('IMAGE 2')\n",
    "ax[1][0].imshow(imor)\n",
    "ax[1][0].set_title('BITWISE OR with mask')\n",
    "ax[1][1].imshow(imand)\n",
    "ax[1][1].set_title('BITWISE AND with mask')\n",
    "fig.tight_layout()\n",
    "plt.show()"
   ]
  }
 ],
 "metadata": {
  "kernelspec": {
   "display_name": "Python 3 (ipykernel)",
   "language": "python",
   "name": "python3"
  },
  "language_info": {
   "codemirror_mode": {
    "name": "ipython",
    "version": 3
   },
   "file_extension": ".py",
   "mimetype": "text/x-python",
   "name": "python",
   "nbconvert_exporter": "python",
   "pygments_lexer": "ipython3",
   "version": "3.9.12"
  }
 },
 "nbformat": 4,
 "nbformat_minor": 5
}
